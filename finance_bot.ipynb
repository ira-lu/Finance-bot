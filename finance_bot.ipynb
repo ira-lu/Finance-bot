{
 "cells": [
  {
   "cell_type": "code",
   "execution_count": 1,
   "id": "c6c122dd-a334-45d8-99e0-4bc67a422cab",
   "metadata": {},
   "outputs": [],
   "source": [
    "import telebot\n",
    "import gspread\n",
    "from oauth2client.service_account import ServiceAccountCredentials\n",
    "import pandas as pd\n",
    "import numpy as np\n",
    "from datetime import datetime\n",
    "import random"
   ]
  },
  {
   "cell_type": "code",
   "execution_count": 2,
   "id": "ace69c6b-a901-400c-af6d-100ee050491a",
   "metadata": {},
   "outputs": [],
   "source": [
    "google_credentials = 'C:/Users/lutov/MyCode/Finance project/luov-finance-project-b33b78877788.json'"
   ]
  },
  {
   "cell_type": "code",
   "execution_count": 3,
   "id": "3a0bc6f4-6da8-4f0d-8c24-ef17a8a94650",
   "metadata": {},
   "outputs": [],
   "source": [
    "#connection to google table\n",
    "table_name = 'LuOv_finance'\n",
    "\n",
    "scope = ['https://spreadsheets.google.com/feeds',\n",
    "         'https://www.googleapis.com/auth/drive']\n",
    "\n",
    "credentials = ServiceAccountCredentials.from_json_keyfile_name(google_credentials, scope)\n",
    "\n",
    "gs = gspread.authorize(credentials)\n",
    "work_sheet = gs.open(table_name)\n"
   ]
  },
  {
   "cell_type": "code",
   "execution_count": 4,
   "id": "4c6272fe-9526-4923-bced-ba7e95eda1d8",
   "metadata": {},
   "outputs": [],
   "source": [
    "#select 1st sheet\n",
    "sheet1 = work_sheet.sheet1\n",
    "\n",
    "\n",
    "#get data in python lists format\n",
    "data = sheet1.get_all_values()\n",
    "\n",
    "\n",
    "#get header from data\n",
    "headers = data.pop(0)\n",
    "\n",
    "#create df\n",
    "df_expenses = pd.DataFrame(data, columns=headers)"
   ]
  },
  {
   "cell_type": "code",
   "execution_count": 5,
   "id": "76e027c5-1405-43ee-b266-9144624cb336",
   "metadata": {},
   "outputs": [],
   "source": [
    "#connection to Telegram\n",
    "bot_token = ''\n",
    "bot = telebot.TeleBot(bot_token)"
   ]
  },
  {
   "cell_type": "code",
   "execution_count": 17,
   "id": "82f8b5ca-63d2-4963-82e7-47acb8663932",
   "metadata": {},
   "outputs": [
    {
     "data": {
      "text/plain": [
       "['Grocery',\n",
       " 'Rent',\n",
       " 'Beauty',\n",
       " 'Utilities',\n",
       " 'Transport',\n",
       " 'Restaurant',\n",
       " 'Coffee',\n",
       " 'Classes',\n",
       " 'Medicine',\n",
       " 'Personal_Care',\n",
       " 'Lunch',\n",
       " 'Pet',\n",
       " 'Other']"
      ]
     },
     "execution_count": 17,
     "metadata": {},
     "output_type": "execute_result"
    }
   ],
   "source": [
    "#connection to sheet with names of categories\n",
    "categories_sheet = work_sheet.worksheet('Categories')\n",
    "title_categories = categories_sheet.col_values(1)\n",
    "title_categories.remove('') if '' in title_categories else title_categories #delete spaces"
   ]
  },
  {
   "cell_type": "code",
   "execution_count": 7,
   "id": "c6657e2e-1b20-4dde-9bf7-3f9ba09e495a",
   "metadata": {},
   "outputs": [],
   "source": [
    "#function for creation keyboard with categories\n",
    "def create_category_keyboard():\n",
    "    keyboard = telebot.types.InlineKeyboardMarkup(row_width=2) #create a keyboard with 2 columns\n",
    "    categories = title_categories\n",
    "    buttons = [telebot.types.InlineKeyboardButton(text=category, callback_data=category) for category in categories] #create category buttons\n",
    "    keyboard.add(*buttons)\n",
    "    return keyboard"
   ]
  },
  {
   "cell_type": "code",
   "execution_count": null,
   "id": "6b34a06b-c0af-4bf3-b4e0-69346ecc2857",
   "metadata": {},
   "outputs": [],
   "source": []
  },
  {
   "cell_type": "code",
   "execution_count": 8,
   "id": "cee63fee-af04-400c-a0ce-416fe6ac40da",
   "metadata": {},
   "outputs": [],
   "source": [
    "@bot.message_handler(commands=['start'])\n",
    "#can be changed. Message handler respond to all incoming messages\n",
    "#for example: @bot.message_handler(func=lambda message: 'hello' in message.text.lower()\n",
    "\n",
    "#function for processing messages from the user\n",
    "def start(message):\n",
    "    bot.send_message(message.chat.id, 'Choose the category:', reply_markup=create_category_keyboard())"
   ]
  },
  {
   "cell_type": "code",
   "execution_count": 9,
   "id": "1578ee64-0d4f-47ca-8ca2-ae8811a37173",
   "metadata": {},
   "outputs": [],
   "source": [
    "#lists of categories per user\n",
    "user_categories = {}"
   ]
  },
  {
   "cell_type": "code",
   "execution_count": 10,
   "id": "14d9145a-0ed2-4406-9782-ccc67117c175",
   "metadata": {},
   "outputs": [],
   "source": [
    "@bot.callback_query_handler(func=lambda call: call.data in title_categories) \n",
    "\n",
    "def handle_category_callback(call):\n",
    "    category=call.data\n",
    "    user_id=call.message.chat.id\n",
    "    user_categories[user_id] = category  # save the chosen category for this user\n",
    "    \n",
    "    bot.send_message(user_id,f'You have selected a category \"{category}\"')\n",
    "    bot.send_message(user_id,f'Enter the purchase amount')\n"
   ]
  },
  {
   "cell_type": "code",
   "execution_count": 11,
   "id": "454c2942-1893-4a1d-841d-deed765f75bb",
   "metadata": {},
   "outputs": [],
   "source": [
    "def create_question_keyboard():\n",
    "    keyboard = telebot.types.InlineKeyboardMarkup()\n",
    "    button_yes = telebot.types.InlineKeyboardButton(text=\"Yes\", callback_data=\"add_another\")\n",
    "    button_no = telebot.types.InlineKeyboardButton(text=\"No\", callback_data=\"finish\")\n",
    "    keyboard.add(button_yes, button_no)\n",
    "    return keyboard"
   ]
  },
  {
   "cell_type": "code",
   "execution_count": 12,
   "id": "ab38efbc-4155-4d6e-b803-ab40f7fb0586",
   "metadata": {},
   "outputs": [],
   "source": [
    "@bot.message_handler(func=lambda message: message.chat.id in user_categories.keys()) \n",
    "#message.chat.id in user_categories.keys() - for identification user that choose a category before\n",
    "\n",
    "def handle_amount_input(message):\n",
    "    if message.text == '/start':\n",
    "         start(message)\n",
    "    else:\n",
    "        try:\n",
    "            amount = float(message.text.strip())\n",
    "            sheet1.update_cell(len(sheet1.col_values(2)) + 1, 2, user_categories[message.chat.id])\n",
    "            sheet1.update_cell(len(sheet1.col_values(2)), 3, amount)\n",
    "      \n",
    "            message_datetime = datetime.fromtimestamp(message.date)\n",
    "            formatted_datetime = message_datetime.strftime('%Y-%m-%d')\n",
    "            sheet1.update_cell(len(sheet1.col_values(2)), 1, formatted_datetime)\n",
    "    \n",
    "            bot.send_message(message.chat.id, 'Data was successfully added to the Google Sheet. /nDo you want to add another category?',reply_markup=create_question_keyboard())\n",
    "            \n",
    "            \n",
    "            #del user_categories[message.chat.id]\n",
    "            \n",
    "        except ValueError:\n",
    "            bot.send_message(message.chat.id, \"Please enter a valid number for the purchase amount\")"
   ]
  },
  {
   "cell_type": "code",
   "execution_count": 13,
   "id": "cb5c6235-0c9a-44fa-b52b-ce1d81cd3a92",
   "metadata": {},
   "outputs": [],
   "source": [
    "@bot.callback_query_handler(func=lambda call: call.data == \"add_another\")\n",
    "def add_another(call):\n",
    "    start(call.message)"
   ]
  },
  {
   "cell_type": "code",
   "execution_count": 14,
   "id": "1bde6ffc-ef3f-4653-b41b-48a82d4bbb8b",
   "metadata": {},
   "outputs": [],
   "source": [
    "@bot.callback_query_handler(func=lambda call: call.data == \"finish\")\n",
    "\n",
    "def finish(call):\n",
    "    \n",
    "    user_id = call.from_user.id\n",
    "    if user_id in user_categories:\n",
    "        del user_categories[user_id]\n",
    "    bot.send_message(call.message.chat.id, \"Thank you! Your data has been saved.\")\n"
   ]
  },
  {
   "cell_type": "code",
   "execution_count": 15,
   "id": "de8cb9f6-aa64-4933-9b3a-7680637cf3a7",
   "metadata": {},
   "outputs": [],
   "source": [
    "bot.polling()"
   ]
  },
  {
   "cell_type": "code",
   "execution_count": null,
   "id": "7dbb25ac-77ca-4521-970c-e013e8eca6d0",
   "metadata": {},
   "outputs": [],
   "source": []
  },
  {
   "cell_type": "code",
   "execution_count": null,
   "id": "f7fb6a80-d27f-4883-b6be-c65f469963f5",
   "metadata": {},
   "outputs": [],
   "source": []
  }
 ],
 "metadata": {
  "kernelspec": {
   "display_name": "Python 3 (ipykernel)",
   "language": "python",
   "name": "python3"
  },
  "language_info": {
   "codemirror_mode": {
    "name": "ipython",
    "version": 3
   },
   "file_extension": ".py",
   "mimetype": "text/x-python",
   "name": "python",
   "nbconvert_exporter": "python",
   "pygments_lexer": "ipython3",
   "version": "3.11.7"
  }
 },
 "nbformat": 4,
 "nbformat_minor": 5
}
